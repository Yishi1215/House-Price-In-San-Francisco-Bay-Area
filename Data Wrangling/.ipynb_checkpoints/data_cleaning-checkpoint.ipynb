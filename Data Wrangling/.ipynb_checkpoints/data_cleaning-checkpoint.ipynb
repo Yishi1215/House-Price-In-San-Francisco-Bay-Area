{
 "cells": [
  {
   "cell_type": "code",
   "execution_count": 254,
   "metadata": {},
   "outputs": [
    {
     "name": "stdout",
     "output_type": "stream",
     "text": [
      "(69468, 28)\n",
      "Index(['Unnamed: 0', 'SALE TYPE', 'SOLD DATE', 'PROPERTY TYPE', 'ADDRESS',\n",
      "       'CITY', 'STATE', 'ZIP', 'PRICE', 'BEDS', 'BATHS', 'LOCATION',\n",
      "       'SQUARE FEET', 'LOT SIZE', 'YEAR BUILT', 'DAYS ON MARKET',\n",
      "       '$/SQUARE FEET', 'HOA/MONTH', 'STATUS', 'NEXT OPEN HOUSE START TIME',\n",
      "       'NEXT OPEN HOUSE END TIME',\n",
      "       'URL (SEE http://www.redfin.com/buy-a-home/comparative-market-analysis FOR INFO ON PRICING)',\n",
      "       'SOURCE', 'MLS#', 'FAVORITE', 'INTERESTED', 'LATITUDE', 'LONGITUDE'],\n",
      "      dtype='object')\n",
      "(41250, 28)\n",
      "(41250, 15)\n",
      "(39895, 15)\n"
     ]
    }
   ],
   "source": [
    "import pandas as pd\n",
    "import numpy as np\n",
    "from matplotlib import pyplot as plt\n",
    "from decimal import *\n",
    "\n",
    "filename = '../Data/merged_data.csv'\n",
    "df = pd.read_csv(filename, dtype={'NEXT OPEN HOUSE START TIME': 'str', 'NEXT OPEN HOUSE END TIME': 'str'})\n",
    "print(df.shape)\n",
    "print(df.columns)\n",
    "\n",
    "#delete duplicate rows in dataframe\n",
    "df_nodup = df.drop_duplicates(subset = ['ADDRESS', 'CITY'])\n",
    "print(df_nodup.shape)\n",
    "\n",
    "#delete useless columns\n",
    "df_dropcol = df_nodup.drop(['Unnamed: 0', 'SALE TYPE', 'STATE', 'DAYS ON MARKET', \n",
    "                            'STATUS', 'NEXT OPEN HOUSE START TIME', 'NEXT OPEN HOUSE END TIME', 'FAVORITE', \n",
    "                            'INTERESTED', 'SOURCE', 'MLS#', 'LOCATION',\n",
    "                            'URL (SEE http://www.redfin.com/buy-a-home/comparative-market-analysis FOR INFO ON PRICING)'], axis = 1)\n",
    "print(df_dropcol.shape)\n",
    "\n",
    "#delete rows with missing values in important columns\n",
    "df_na = df_dropcol.replace('', np.nan)\n",
    "#df_nomissing = df_na.dropna(subset = ['SOLD DATE', 'PROPERTY TYPE', 'ADDRESS', 'CITY', 'ZIP', 'PRICE', 'BEDS', 'BATHS', 'SQUARE FEET', 'YEAR BUILT']) \n",
    "df_nomissing = df_na.dropna(subset = ['PROPERTY TYPE', 'PRICE', 'SQUARE FEET']) \n",
    "print(df_nomissing.shape)\n"
   ]
  },
  {
   "cell_type": "code",
   "execution_count": 255,
   "metadata": {},
   "outputs": [
    {
     "data": {
      "text/plain": [
       "(37898, 15)"
      ]
     },
     "execution_count": 255,
     "metadata": {},
     "output_type": "execute_result"
    }
   ],
   "source": [
    "# delete rows which property type is unknown/other/vacant land/Multi-Family\n",
    "df_protype = df_nomissing[df_nomissing['PROPERTY TYPE'] != 'Unknown']\n",
    "df_protype = df_protype[df_protype['PROPERTY TYPE'] != 'Vacant Land']\n",
    "df_protype = df_protype[df_protype['PROPERTY TYPE'] != 'Other']\n",
    "df_protype = df_protype[df_protype['PROPERTY TYPE'] != 'Mobile/Manufactured Home']\n",
    "df_protype = df_protype[df_protype['PROPERTY TYPE'] != 'Multi-Family (2-4 Unit)']\n",
    "df_protype = df_protype[df_protype['PROPERTY TYPE'] != 'Multi-Family (5+ Unit)']\n",
    "df_protype.shape"
   ]
  },
  {
   "cell_type": "code",
   "execution_count": 256,
   "metadata": {},
   "outputs": [
    {
     "data": {
      "image/png": "[encoded data removed]",
      "text/plain": [
       "<matplotlib.figure.Figure at 0x11e8aa748>"
      ]
     },
     "metadata": {},
     "output_type": "display_data"
    }
   ],
   "source": [
    "plt.boxplot(df_protype['PRICE'])\n",
    "plt.show()"
   ]
  },
  {
   "cell_type": "code",
   "execution_count": 257,
   "metadata": {},
   "outputs": [],
   "source": [
    "# plt.boxplot(df_protype['BEDS'])\n",
    "# plt.show()"
   ]
  },
  {
   "cell_type": "code",
   "execution_count": 258,
   "metadata": {},
   "outputs": [],
   "source": [
    "# plt.boxplot(df_protype['BATHS'])\n",
    "# plt.show()"
   ]
  },
  {
   "cell_type": "code",
   "execution_count": 259,
   "metadata": {},
   "outputs": [],
   "source": [
    "# delete outliers\n",
    "df_byvalue = df_protype.sort_values(by = ['PRICE'])\n",
    "df_nooutlier = df_byvalue[df_byvalue['PRICE'] > 100000]"
   ]
  },
  {
   "cell_type": "code",
   "execution_count": 260,
   "metadata": {},
   "outputs": [],
   "source": [
    "df_nooutlier = df_nooutlier.replace('Single Family Residential', 'SFH')\n",
    "df_nooutlier = df_nooutlier.replace('Townhouse', 'TH')\n",
    "df_nooutlier = df_nooutlier.replace('Condo/Co-op', 'Condo')"
   ]
  },
  {
   "cell_type": "code",
   "execution_count": 261,
   "metadata": {},
   "outputs": [],
   "source": [
    "df_nooutlier['CITY'] = df_nooutlier['CITY'].astype(str).apply(lambda city: city.upper())\n",
    "df_nooutlier = df_nooutlier.replace('S San Francisco', 'SOUTH SAN FRANCISCO')\n",
    "df_nooutlier = df_nooutlier.replace('So. San Francisco', 'SOUTH SAN FRANCISCO')\n",
    "df_nooutlier = df_nooutlier.replace('Redwood Shores', 'REDWOOD CITY')\n",
    "df_nooutlier = df_nooutlier[df_nooutlier['CITY'] != 'Out of Area']\n",
    "df_nooutlier = df_nooutlier[df_nooutlier['CITY'] != 'Outside Arizona']"
   ]
  },
  {
   "cell_type": "code",
   "execution_count": 262,
   "metadata": {},
   "outputs": [],
   "source": [
    "# delete rows which SQUARE FEET is abnormal\n",
    "df_nooutlier = df_nooutlier[df_nooutlier['SQUARE FEET'] > 300]\n",
    "df_nooutlier = df_nooutlier[df_nooutlier['SQUARE FEET'] < 30000]"
   ]
  },
  {
   "cell_type": "code",
   "execution_count": 263,
   "metadata": {},
   "outputs": [],
   "source": [
    "df_nooutlier['$/SQUARE FEET'] = df_nooutlier['PRICE']/df_nooutlier['SQUARE FEET'] "
   ]
  },
  {
   "cell_type": "code",
   "execution_count": 264,
   "metadata": {},
   "outputs": [],
   "source": [
    "df_nooutlier['PRICE'] = df_nooutlier['PRICE']/1000.0\n",
    "df_nooutlier.rename(columns={'PRICE':'PRICE IN K'}, inplace=True)"
   ]
  },
  {
   "cell_type": "code",
   "execution_count": 265,
   "metadata": {},
   "outputs": [],
   "source": [
    "county = '../Data/county.csv'\n",
    "county_city = pd.read_csv(county)"
   ]
  },
  {
   "cell_type": "code",
   "execution_count": 266,
   "metadata": {},
   "outputs": [],
   "source": [
    "df = pd.merge(df_nooutlier, county_city, how = 'left', on = 'CITY')"
   ]
  },
  {
   "cell_type": "code",
   "execution_count": 267,
   "metadata": {},
   "outputs": [],
   "source": [
    "df.to_csv('../Data/cleaned_data.csv')"
   ]
  },
  {
   "cell_type": "code",
   "execution_count": 268,
   "metadata": {},
   "outputs": [
    {
     "data": {
      "text/plain": [
       "(37759, 16)"
      ]
     },
     "execution_count": 268,
     "metadata": {},
     "output_type": "execute_result"
    }
   ],
   "source": [
    "df.shape"
   ]
  },
  {
   "cell_type": "code",
   "execution_count": 269,
   "metadata": {},
   "outputs": [
    {
     "name": "stdout",
     "output_type": "stream",
     "text": [
      "<class 'pandas.core.frame.DataFrame'>\n",
      "Int64Index: 37759 entries, 0 to 37758\n",
      "Data columns (total 16 columns):\n",
      "SOLD DATE        30846 non-null object\n",
      "PROPERTY TYPE    37759 non-null object\n",
      "ADDRESS          37743 non-null object\n",
      "CITY             37759 non-null object\n",
      "ZIP              37758 non-null object\n",
      "PRICE IN K       37759 non-null float64\n",
      "BEDS             37658 non-null float64\n",
      "BATHS            37723 non-null float64\n",
      "SQUARE FEET      37759 non-null float64\n",
      "LOT SIZE         32590 non-null float64\n",
      "YEAR BUILT       37641 non-null float64\n",
      "$/SQUARE FEET    37759 non-null float64\n",
      "HOA/MONTH        11548 non-null float64\n",
      "LATITUDE         37759 non-null float64\n",
      "LONGITUDE        37759 non-null float64\n",
      "COUNTY           37521 non-null object\n",
      "dtypes: float64(10), object(6)\n",
      "memory usage: 4.9+ MB\n"
     ]
    }
   ],
   "source": [
    "df.info()"
   ]
  }
 ],
 "metadata": {
  "kernelspec": {
   "display_name": "Python 3",
   "language": "python",
   "name": "python3"
  },
  "language_info": {
   "codemirror_mode": {
    "name": "ipython",
    "version": 3
   },
   "file_extension": ".py",
   "mimetype": "text/x-python",
   "name": "python",
   "nbconvert_exporter": "python",
   "pygments_lexer": "ipython3",
   "version": "3.6.0"
  }
 },
 "nbformat": 4,
 "nbformat_minor": 2
}
