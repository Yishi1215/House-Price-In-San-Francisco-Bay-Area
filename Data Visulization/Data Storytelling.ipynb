{
 "cells": [
  {
   "cell_type": "code",
   "execution_count": 9,
   "metadata": {},
   "outputs": [],
   "source": [
    "import numpy as np\n",
    "import pandas as pd\n",
    "from matplotlib import pyplot as plt"
   ]
  },
  {
   "cell_type": "code",
   "execution_count": 10,
   "metadata": {},
   "outputs": [],
   "source": [
    "filename = '../Data/cleaned_data.csv'\n",
    "df = pd.read_csv(filename)"
   ]
  },
  {
   "cell_type": "code",
   "execution_count": 11,
   "metadata": {},
   "outputs": [],
   "source": [
    "del df['Unnamed: 0']"
   ]
  },
  {
   "cell_type": "code",
   "execution_count": 12,
   "metadata": {},
   "outputs": [
    {
     "data": {
      "text/html": [
       "<div>\n",
       "<style>\n",
       "    .dataframe thead tr:only-child th {\n",
       "        text-align: right;\n",
       "    }\n",
       "\n",
       "    .dataframe thead th {\n",
       "        text-align: left;\n",
       "    }\n",
       "\n",
       "    .dataframe tbody tr th {\n",
       "        vertical-align: top;\n",
       "    }\n",
       "</style>\n",
       "<table border=\"1\" class=\"dataframe\">\n",
       "  <thead>\n",
       "    <tr style=\"text-align: right;\">\n",
       "      <th></th>\n",
       "      <th>SOLD DATE</th>\n",
       "      <th>PROPERTY TYPE</th>\n",
       "      <th>ADDRESS</th>\n",
       "      <th>CITY</th>\n",
       "      <th>ZIP</th>\n",
       "      <th>PRICE IN K</th>\n",
       "      <th>BEDS</th>\n",
       "      <th>BATHS</th>\n",
       "      <th>LOCATION</th>\n",
       "      <th>SQUARE FEET</th>\n",
       "      <th>LOT SIZE</th>\n",
       "      <th>YEAR BUILT</th>\n",
       "      <th>$/SQUARE FEET</th>\n",
       "      <th>HOA/MONTH</th>\n",
       "      <th>URL (SEE http://www.redfin.com/buy-a-home/comparative-market-analysis FOR INFO ON PRICING)</th>\n",
       "      <th>SOURCE</th>\n",
       "      <th>MLS#</th>\n",
       "      <th>LATITUDE</th>\n",
       "      <th>LONGITUDE</th>\n",
       "      <th>COUNTY</th>\n",
       "    </tr>\n",
       "  </thead>\n",
       "  <tbody>\n",
       "    <tr>\n",
       "      <th>0</th>\n",
       "      <td>NaN</td>\n",
       "      <td>SFH</td>\n",
       "      <td>1123 Brunswick St</td>\n",
       "      <td>DALY CITY</td>\n",
       "      <td>94014</td>\n",
       "      <td>100.5</td>\n",
       "      <td>2.0</td>\n",
       "      <td>1.0</td>\n",
       "      <td>NaN</td>\n",
       "      <td>1030.0</td>\n",
       "      <td>2500.0</td>\n",
       "      <td>1916.0</td>\n",
       "      <td>98.0</td>\n",
       "      <td>NaN</td>\n",
       "      <td>http://www.redfin.com/CA/Daly-City/1123-Brunsw...</td>\n",
       "      <td>NaN</td>\n",
       "      <td>NaN</td>\n",
       "      <td>37.705789</td>\n",
       "      <td>-122.456480</td>\n",
       "      <td>SAN MATEO</td>\n",
       "    </tr>\n",
       "    <tr>\n",
       "      <th>1</th>\n",
       "      <td>NaN</td>\n",
       "      <td>SFH</td>\n",
       "      <td>17382 Via La Jolla</td>\n",
       "      <td>SAN LORENZO</td>\n",
       "      <td>94580</td>\n",
       "      <td>101.0</td>\n",
       "      <td>3.0</td>\n",
       "      <td>2.0</td>\n",
       "      <td>NaN</td>\n",
       "      <td>1229.0</td>\n",
       "      <td>5200.0</td>\n",
       "      <td>1951.0</td>\n",
       "      <td>82.0</td>\n",
       "      <td>NaN</td>\n",
       "      <td>http://www.redfin.com/CA/San-Lorenzo/17382-Via...</td>\n",
       "      <td>NaN</td>\n",
       "      <td>NaN</td>\n",
       "      <td>37.665810</td>\n",
       "      <td>-122.135079</td>\n",
       "      <td>ALAMEDA</td>\n",
       "    </tr>\n",
       "    <tr>\n",
       "      <th>2</th>\n",
       "      <td>NaN</td>\n",
       "      <td>Condo</td>\n",
       "      <td>1750 Halford Ave Apt 105</td>\n",
       "      <td>SANTA CLARA</td>\n",
       "      <td>95051</td>\n",
       "      <td>102.0</td>\n",
       "      <td>1.0</td>\n",
       "      <td>1.0</td>\n",
       "      <td>NaN</td>\n",
       "      <td>678.0</td>\n",
       "      <td>NaN</td>\n",
       "      <td>1970.0</td>\n",
       "      <td>150.0</td>\n",
       "      <td>NaN</td>\n",
       "      <td>http://www.redfin.com/CA/Santa-Clara/1750-Half...</td>\n",
       "      <td>NaN</td>\n",
       "      <td>NaN</td>\n",
       "      <td>37.355715</td>\n",
       "      <td>-121.998715</td>\n",
       "      <td>SANTA CLARA</td>\n",
       "    </tr>\n",
       "    <tr>\n",
       "      <th>3</th>\n",
       "      <td>NaN</td>\n",
       "      <td>SFH</td>\n",
       "      <td>888 Palm St</td>\n",
       "      <td>SAN JOSE</td>\n",
       "      <td>95110</td>\n",
       "      <td>102.0</td>\n",
       "      <td>2.0</td>\n",
       "      <td>1.0</td>\n",
       "      <td>NaN</td>\n",
       "      <td>884.0</td>\n",
       "      <td>6750.0</td>\n",
       "      <td>1913.0</td>\n",
       "      <td>115.0</td>\n",
       "      <td>NaN</td>\n",
       "      <td>http://www.redfin.com/CA/San-Jose/888-Palm-St-...</td>\n",
       "      <td>NaN</td>\n",
       "      <td>NaN</td>\n",
       "      <td>37.319633</td>\n",
       "      <td>-121.886415</td>\n",
       "      <td>SANTA CLARA</td>\n",
       "    </tr>\n",
       "    <tr>\n",
       "      <th>4</th>\n",
       "      <td>NaN</td>\n",
       "      <td>SFH</td>\n",
       "      <td>1431 86th Ave</td>\n",
       "      <td>OAKLAND</td>\n",
       "      <td>94621</td>\n",
       "      <td>102.5</td>\n",
       "      <td>2.0</td>\n",
       "      <td>1.0</td>\n",
       "      <td>NaN</td>\n",
       "      <td>1029.0</td>\n",
       "      <td>5320.0</td>\n",
       "      <td>1927.0</td>\n",
       "      <td>100.0</td>\n",
       "      <td>NaN</td>\n",
       "      <td>http://www.redfin.com/CA/Oakland/1431-86th-Ave...</td>\n",
       "      <td>NaN</td>\n",
       "      <td>NaN</td>\n",
       "      <td>37.753451</td>\n",
       "      <td>-122.176025</td>\n",
       "      <td>ALAMEDA</td>\n",
       "    </tr>\n",
       "  </tbody>\n",
       "</table>\n",
       "</div>"
      ],
      "text/plain": [
       "  SOLD DATE PROPERTY TYPE                   ADDRESS         CITY    ZIP  \\\n",
       "0       NaN           SFH         1123 Brunswick St    DALY CITY  94014   \n",
       "1       NaN           SFH        17382 Via La Jolla  SAN LORENZO  94580   \n",
       "2       NaN         Condo  1750 Halford Ave Apt 105  SANTA CLARA  95051   \n",
       "3       NaN           SFH               888 Palm St     SAN JOSE  95110   \n",
       "4       NaN           SFH             1431 86th Ave      OAKLAND  94621   \n",
       "\n",
       "   PRICE IN K  BEDS  BATHS LOCATION  SQUARE FEET  LOT SIZE  YEAR BUILT  \\\n",
       "0       100.5   2.0    1.0      NaN       1030.0    2500.0      1916.0   \n",
       "1       101.0   3.0    2.0      NaN       1229.0    5200.0      1951.0   \n",
       "2       102.0   1.0    1.0      NaN        678.0       NaN      1970.0   \n",
       "3       102.0   2.0    1.0      NaN        884.0    6750.0      1913.0   \n",
       "4       102.5   2.0    1.0      NaN       1029.0    5320.0      1927.0   \n",
       "\n",
       "   $/SQUARE FEET  HOA/MONTH  \\\n",
       "0           98.0        NaN   \n",
       "1           82.0        NaN   \n",
       "2          150.0        NaN   \n",
       "3          115.0        NaN   \n",
       "4          100.0        NaN   \n",
       "\n",
       "  URL (SEE http://www.redfin.com/buy-a-home/comparative-market-analysis FOR INFO ON PRICING)  \\\n",
       "0  http://www.redfin.com/CA/Daly-City/1123-Brunsw...                                           \n",
       "1  http://www.redfin.com/CA/San-Lorenzo/17382-Via...                                           \n",
       "2  http://www.redfin.com/CA/Santa-Clara/1750-Half...                                           \n",
       "3  http://www.redfin.com/CA/San-Jose/888-Palm-St-...                                           \n",
       "4  http://www.redfin.com/CA/Oakland/1431-86th-Ave...                                           \n",
       "\n",
       "  SOURCE MLS#   LATITUDE   LONGITUDE       COUNTY  \n",
       "0    NaN  NaN  37.705789 -122.456480    SAN MATEO  \n",
       "1    NaN  NaN  37.665810 -122.135079      ALAMEDA  \n",
       "2    NaN  NaN  37.355715 -121.998715  SANTA CLARA  \n",
       "3    NaN  NaN  37.319633 -121.886415  SANTA CLARA  \n",
       "4    NaN  NaN  37.753451 -122.176025      ALAMEDA  "
      ]
     },
     "execution_count": 12,
     "metadata": {},
     "output_type": "execute_result"
    }
   ],
   "source": [
    "df.head()"
   ]
  },
  {
   "cell_type": "markdown",
   "metadata": {},
   "source": [
    "# Count something"
   ]
  },
  {
   "cell_type": "code",
   "execution_count": 13,
   "metadata": {},
   "outputs": [
    {
     "data": {
      "text/plain": [
       "(38273, 20)"
      ]
     },
     "execution_count": 13,
     "metadata": {},
     "output_type": "execute_result"
    }
   ],
   "source": [
    "# count 1: number of record\n",
    "df.shape"
   ]
  },
  {
   "cell_type": "code",
   "execution_count": 14,
   "metadata": {},
   "outputs": [
    {
     "name": "stdout",
     "output_type": "stream",
     "text": [
      "(16878, 20)\n",
      "(4821, 20)\n",
      "(823, 20)\n",
      "(823, 20)\n"
     ]
    }
   ],
   "source": [
    "# count 2: count number of house sold above 1M/2M/4M/8M\n",
    "print(df.loc[df['PRICE IN K'] > 1000].shape)\n",
    "print(df.loc[df['PRICE IN K'] > 2000].shape)\n",
    "print(df.loc[df['PRICE IN K'] > 4000].shape)\n",
    "print(df.loc[df['PRICE IN K'] > 4000].shape)"
   ]
  },
  {
   "cell_type": "markdown",
   "metadata": {},
   "source": [
    "# Find something"
   ]
  },
  {
   "cell_type": "code",
   "execution_count": 15,
   "metadata": {},
   "outputs": [
    {
     "name": "stdout",
     "output_type": "stream",
     "text": [
      "42250.0\n",
      "100.5\n"
     ]
    }
   ],
   "source": [
    "# finding 1: highest and lowest price\n",
    "print(df['PRICE IN K'].max())\n",
    "print(df['PRICE IN K'].min())"
   ]
  },
  {
   "cell_type": "code",
   "execution_count": 16,
   "metadata": {},
   "outputs": [
    {
     "name": "stdout",
     "output_type": "stream",
     "text": [
      "77660.0\n",
      "368212680.0\n"
     ]
    }
   ],
   "source": [
    "# finding 2: Lagest living space & lot size\n",
    "print(df['SQUARE FEET'].max())\n",
    "print(df['LOT SIZE'].max())"
   ]
  }
 ],
 "metadata": {
  "kernelspec": {
   "display_name": "Python 3",
   "language": "python",
   "name": "python3"
  },
  "language_info": {
   "codemirror_mode": {
    "name": "ipython",
    "version": 3
   },
   "file_extension": ".py",
   "mimetype": "text/x-python",
   "name": "python",
   "nbconvert_exporter": "python",
   "pygments_lexer": "ipython3",
   "version": "3.6.0"
  }
 },
 "nbformat": 4,
 "nbformat_minor": 2
}
