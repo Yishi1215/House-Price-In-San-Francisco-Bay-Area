{
 "cells": [
  {
   "cell_type": "code",
   "execution_count": 7,
   "metadata": {},
   "outputs": [],
   "source": [
    "import pandas as pd\n",
    "import numpy as np\n",
    "import matplotlib.pyplot as plt"
   ]
  },
  {
   "cell_type": "code",
   "execution_count": 8,
   "metadata": {},
   "outputs": [],
   "source": [
    "filename = '../Data/cleaned_data.csv'\n",
    "df = pd.read_csv(filename, index_col=0)"
   ]
  },
  {
   "cell_type": "code",
   "execution_count": 9,
   "metadata": {},
   "outputs": [],
   "source": [
    "df = df.drop(['SOLD DATE', 'ADDRESS', 'LATITUDE', 'LONGITUDE', '$/SQUARE FEET'], axis=1)\n",
    "df = df.dropna(subset = ['COUNTY']) "
   ]
  },
  {
   "cell_type": "code",
   "execution_count": 10,
   "metadata": {},
   "outputs": [],
   "source": [
    "df['LOT'] = np.where(df['LOT SIZE']>0, 1, 0)\n",
    "df['HOA'] = np.where(df['HOA/MONTH']>0, 1, 0)"
   ]
  },
  {
   "cell_type": "code",
   "execution_count": 11,
   "metadata": {},
   "outputs": [],
   "source": [
    "df_sfh = df.loc[df['PROPERTY TYPE'] == 'SFH']\n",
    "df_th = df.loc[df['PROPERTY TYPE'] == 'TH'] \n",
    "df_condo = df.loc[df['PROPERTY TYPE'] == 'Condo']"
   ]
  },
  {
   "cell_type": "code",
   "execution_count": 12,
   "metadata": {},
   "outputs": [
    {
     "name": "stderr",
     "output_type": "stream",
     "text": [
      "/Library/Frameworks/Python.framework/Versions/3.6/lib/python3.6/site-packages/ipykernel_launcher.py:5: SettingWithCopyWarning: \n",
      "A value is trying to be set on a copy of a slice from a DataFrame.\n",
      "Try using .loc[row_indexer,col_indexer] = value instead\n",
      "\n",
      "See the caveats in the documentation: http://pandas.pydata.org/pandas-docs/stable/indexing.html#indexing-view-versus-copy\n",
      "  \"\"\"\n",
      "/Library/Frameworks/Python.framework/Versions/3.6/lib/python3.6/site-packages/ipykernel_launcher.py:8: SettingWithCopyWarning: \n",
      "A value is trying to be set on a copy of a slice from a DataFrame.\n",
      "Try using .loc[row_indexer,col_indexer] = value instead\n",
      "\n",
      "See the caveats in the documentation: http://pandas.pydata.org/pandas-docs/stable/indexing.html#indexing-view-versus-copy\n",
      "  \n"
     ]
    }
   ],
   "source": [
    "# revise townhouse/condo lot size\n",
    "df_th_over = df_th[df_th['LOT SIZE'] > 3500]\n",
    "df_th_below = df_th[df_th['LOT SIZE'] <= 3500]\n",
    "th_lot_mean = df_th_below['LOT SIZE'].mean()\n",
    "df_th_over['LOT SIZE'] = th_lot_mean \n",
    "df_th = pd.concat([df_th_over, df_th_below])\n",
    "\n",
    "df_condo['LOT SIZE'] = 0"
   ]
  },
  {
   "cell_type": "code",
   "execution_count": 13,
   "metadata": {},
   "outputs": [
    {
     "name": "stderr",
     "output_type": "stream",
     "text": [
      "/Library/Frameworks/Python.framework/Versions/3.6/lib/python3.6/site-packages/pandas/core/indexing.py:517: SettingWithCopyWarning: \n",
      "A value is trying to be set on a copy of a slice from a DataFrame.\n",
      "Try using .loc[row_indexer,col_indexer] = value instead\n",
      "\n",
      "See the caveats in the documentation: http://pandas.pydata.org/pandas-docs/stable/indexing.html#indexing-view-versus-copy\n",
      "  self.obj[item] = s\n"
     ]
    }
   ],
   "source": [
    "# replace missing HOA/MONTH with 0 or mean\n",
    "df_sfh.loc[:, 'HOA/MONTH'] = df_sfh['HOA/MONTH'].fillna(0)\n",
    "df_th.loc[:, 'HOA/MONTH'] = df_th['HOA/MONTH'].fillna(df_th['HOA/MONTH'].mean())\n",
    "df_condo.loc[:, 'HOA/MONTH'] = df_condo['HOA/MONTH'].fillna(df_condo['HOA/MONTH'].mean())\n",
    "\n",
    "# replace missing LOT SIZE with 0 or mean\n",
    "df_condo.loc[:, 'LOT SIZE'] = df_condo['LOT SIZE'].fillna(0)\n",
    "df_th.loc[:, 'LOT SIZE'] = df_th['LOT SIZE'].fillna(df_th['LOT SIZE'].mean())\n",
    "df_sfh.loc[:, 'LOT SIZE'] = df_sfh['LOT SIZE'].fillna(df_sfh['LOT SIZE'].mean())\n",
    "\n",
    "# replace missing BEDS, BATHS, YEAR BUILT with mean\n",
    "df_th.loc[:, 'BEDS'] = df_th['BEDS'].fillna(df_th['BEDS'].mean())\n",
    "df_condo.loc[:, 'BEDS'] = df_condo['BEDS'].fillna(df_condo['BEDS'].mean())\n",
    "df_sfh.loc[:, 'BEDS'] = df_sfh['BEDS'].fillna(df_sfh['BEDS'].mean())\n",
    "df_th.loc[:, 'BATHS'] = df_th['BATHS'].fillna(df_th['BATHS'].mean())\n",
    "df_condo.loc[:, 'BATHS'] = df_condo['BATHS'].fillna(df_condo['BATHS'].mean())\n",
    "df_sfh.loc[:, 'BATHS'] = df_sfh['BATHS'].fillna(df_sfh['BATHS'].mean())\n",
    "df_th.loc[:, 'YEAR BUILT'] = df_th['YEAR BUILT'].fillna(df_th['YEAR BUILT'].mean())\n",
    "df_condo.loc[:, 'YEAR BUILT'] = df_condo['YEAR BUILT'].fillna(df_condo['YEAR BUILT'].mean())\n",
    "df_sfh.loc[:, 'YEAR BUILT'] = df_sfh['YEAR BUILT'].fillna(df_sfh['YEAR BUILT'].mean())"
   ]
  },
  {
   "cell_type": "code",
   "execution_count": 14,
   "metadata": {},
   "outputs": [
    {
     "data": {
      "text/html": [
       "<div>\n",
       "<style>\n",
       "    .dataframe thead tr:only-child th {\n",
       "        text-align: right;\n",
       "    }\n",
       "\n",
       "    .dataframe thead th {\n",
       "        text-align: left;\n",
       "    }\n",
       "\n",
       "    .dataframe tbody tr th {\n",
       "        vertical-align: top;\n",
       "    }\n",
       "</style>\n",
       "<table border=\"1\" class=\"dataframe\">\n",
       "  <thead>\n",
       "    <tr style=\"text-align: right;\">\n",
       "      <th></th>\n",
       "      <th>PROPERTY TYPE</th>\n",
       "      <th>CITY</th>\n",
       "      <th>ZIP</th>\n",
       "      <th>PRICE IN K</th>\n",
       "      <th>BEDS</th>\n",
       "      <th>BATHS</th>\n",
       "      <th>SQUARE FEET</th>\n",
       "      <th>LOT SIZE</th>\n",
       "      <th>YEAR BUILT</th>\n",
       "      <th>HOA/MONTH</th>\n",
       "      <th>COUNTY</th>\n",
       "      <th>LOT</th>\n",
       "      <th>HOA</th>\n",
       "    </tr>\n",
       "  </thead>\n",
       "  <tbody>\n",
       "    <tr>\n",
       "      <th>115</th>\n",
       "      <td>TH</td>\n",
       "      <td>UNION CITY</td>\n",
       "      <td>94587</td>\n",
       "      <td>139.0</td>\n",
       "      <td>3.0</td>\n",
       "      <td>2.0</td>\n",
       "      <td>1357.0</td>\n",
       "      <td>1564.026795</td>\n",
       "      <td>1971.0</td>\n",
       "      <td>344.885758</td>\n",
       "      <td>ALAMEDA</td>\n",
       "      <td>1</td>\n",
       "      <td>0</td>\n",
       "    </tr>\n",
       "    <tr>\n",
       "      <th>208</th>\n",
       "      <td>TH</td>\n",
       "      <td>FOSTER CITY</td>\n",
       "      <td>94404</td>\n",
       "      <td>165.0</td>\n",
       "      <td>2.0</td>\n",
       "      <td>1.0</td>\n",
       "      <td>998.0</td>\n",
       "      <td>1564.026795</td>\n",
       "      <td>1965.0</td>\n",
       "      <td>344.885758</td>\n",
       "      <td>SAN MATEO</td>\n",
       "      <td>1</td>\n",
       "      <td>0</td>\n",
       "    </tr>\n",
       "    <tr>\n",
       "      <th>250</th>\n",
       "      <td>TH</td>\n",
       "      <td>DALY CITY</td>\n",
       "      <td>94014</td>\n",
       "      <td>175.0</td>\n",
       "      <td>2.0</td>\n",
       "      <td>1.0</td>\n",
       "      <td>788.0</td>\n",
       "      <td>1564.026795</td>\n",
       "      <td>1964.0</td>\n",
       "      <td>344.885758</td>\n",
       "      <td>SAN MATEO</td>\n",
       "      <td>1</td>\n",
       "      <td>0</td>\n",
       "    </tr>\n",
       "    <tr>\n",
       "      <th>347</th>\n",
       "      <td>TH</td>\n",
       "      <td>ALAMEDA</td>\n",
       "      <td>94502</td>\n",
       "      <td>196.0</td>\n",
       "      <td>1.0</td>\n",
       "      <td>1.0</td>\n",
       "      <td>1042.0</td>\n",
       "      <td>1564.026795</td>\n",
       "      <td>1985.0</td>\n",
       "      <td>344.885758</td>\n",
       "      <td>ALAMEDA</td>\n",
       "      <td>1</td>\n",
       "      <td>0</td>\n",
       "    </tr>\n",
       "    <tr>\n",
       "      <th>588</th>\n",
       "      <td>TH</td>\n",
       "      <td>PACIFICA</td>\n",
       "      <td>94044</td>\n",
       "      <td>250.0</td>\n",
       "      <td>2.0</td>\n",
       "      <td>2.0</td>\n",
       "      <td>1675.0</td>\n",
       "      <td>1564.026795</td>\n",
       "      <td>1995.0</td>\n",
       "      <td>344.885758</td>\n",
       "      <td>SAN MATEO</td>\n",
       "      <td>1</td>\n",
       "      <td>0</td>\n",
       "    </tr>\n",
       "  </tbody>\n",
       "</table>\n",
       "</div>"
      ],
      "text/plain": [
       "    PROPERTY TYPE         CITY    ZIP  PRICE IN K  BEDS  BATHS  SQUARE FEET  \\\n",
       "115            TH   UNION CITY  94587       139.0   3.0    2.0       1357.0   \n",
       "208            TH  FOSTER CITY  94404       165.0   2.0    1.0        998.0   \n",
       "250            TH    DALY CITY  94014       175.0   2.0    1.0        788.0   \n",
       "347            TH      ALAMEDA  94502       196.0   1.0    1.0       1042.0   \n",
       "588            TH     PACIFICA  94044       250.0   2.0    2.0       1675.0   \n",
       "\n",
       "        LOT SIZE  YEAR BUILT   HOA/MONTH     COUNTY  LOT  HOA  \n",
       "115  1564.026795      1971.0  344.885758    ALAMEDA    1    0  \n",
       "208  1564.026795      1965.0  344.885758  SAN MATEO    1    0  \n",
       "250  1564.026795      1964.0  344.885758  SAN MATEO    1    0  \n",
       "347  1564.026795      1985.0  344.885758    ALAMEDA    1    0  \n",
       "588  1564.026795      1995.0  344.885758  SAN MATEO    1    0  "
      ]
     },
     "execution_count": 14,
     "metadata": {},
     "output_type": "execute_result"
    }
   ],
   "source": [
    "df = pd.concat([df_th, df_condo, df_sfh])\n",
    "df.head()"
   ]
  },
  {
   "cell_type": "code",
   "execution_count": 15,
   "metadata": {},
   "outputs": [],
   "source": [
    "df_county = df.drop(['CITY', 'ZIP'], axis=1)\n",
    "df_city = df.drop(['COUNTY', 'ZIP'], axis=1)\n",
    "df_zip = df.drop(['COUNTY', 'CITY'], axis=1)"
   ]
  },
  {
   "cell_type": "code",
   "execution_count": 16,
   "metadata": {},
   "outputs": [],
   "source": [
    "df_county = pd.get_dummies(df_county)\n",
    "df_city = pd.get_dummies(df_city)\n",
    "df_zip = pd.get_dummies(df_zip)"
   ]
  },
  {
   "cell_type": "code",
   "execution_count": 17,
   "metadata": {},
   "outputs": [],
   "source": [
    "df.to_csv('Preprocessing Data/cleaned_data.csv')"
   ]
  },
  {
   "cell_type": "code",
   "execution_count": 18,
   "metadata": {},
   "outputs": [
    {
     "data": {
      "text/plain": [
       "(2203, 13)"
      ]
     },
     "execution_count": 18,
     "metadata": {},
     "output_type": "execute_result"
    }
   ],
   "source": [
    "df_th.shape"
   ]
  },
  {
   "cell_type": "code",
   "execution_count": 19,
   "metadata": {},
   "outputs": [
    {
     "data": {
      "text/plain": [
       "(3314, 13)"
      ]
     },
     "execution_count": 19,
     "metadata": {},
     "output_type": "execute_result"
    }
   ],
   "source": [
    "df_condo.shape"
   ]
  },
  {
   "cell_type": "code",
   "execution_count": 20,
   "metadata": {},
   "outputs": [
    {
     "data": {
      "text/plain": [
       "(26790, 13)"
      ]
     },
     "execution_count": 20,
     "metadata": {},
     "output_type": "execute_result"
    }
   ],
   "source": [
    "df_sfh.shape"
   ]
  },
  {
   "cell_type": "code",
   "execution_count": 47,
   "metadata": {},
   "outputs": [
    {
     "data": {
      "text/plain": [
       "(32309, 13)"
      ]
     },
     "execution_count": 47,
     "metadata": {},
     "output_type": "execute_result"
    }
   ],
   "source": [
    "df.shape"
   ]
  },
  {
   "cell_type": "code",
   "execution_count": null,
   "metadata": {},
   "outputs": [],
   "source": []
  }
 ],
 "metadata": {
  "kernelspec": {
   "display_name": "Python 3",
   "language": "python",
   "name": "python3"
  },
  "language_info": {
   "codemirror_mode": {
    "name": "ipython",
    "version": 3
   },
   "file_extension": ".py",
   "mimetype": "text/x-python",
   "name": "python",
   "nbconvert_exporter": "python",
   "pygments_lexer": "ipython3",
   "version": "3.6.0"
  }
 },
 "nbformat": 4,
 "nbformat_minor": 2
}
